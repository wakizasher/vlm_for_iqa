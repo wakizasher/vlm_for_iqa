{
 "cells": [
  {
   "cell_type": "code",
   "id": "initial_id",
   "metadata": {
    "collapsed": true,
    "ExecuteTime": {
     "end_time": "2025-05-26T06:48:50.407468Z",
     "start_time": "2025-05-26T06:48:49.866740Z"
    }
   },
   "source": [
    "import pandas as pd\n",
    "import numpy as np\n",
    "import matplotlib.pyplot as plt"
   ],
   "outputs": [],
   "execution_count": 1
  },
  {
   "metadata": {
    "ExecuteTime": {
     "end_time": "2025-05-26T06:50:21.090094Z",
     "start_time": "2025-05-26T06:50:21.071092Z"
    }
   },
   "cell_type": "code",
   "source": [
    "human_df = pd.read_csv(r\"C:\\Users\\Nikita\\Projects\\vlm_for_iqa\\data\\human_presence_results_qwen.csv\")\n",
    "taxa_df = pd.read_csv(r\"C:\\Users\\Nikita\\Projects\\vlm_for_iqa\\data\\taxa_results_qwen_updated_prompt.csv\")\n",
    "blurry_df = pd.read_csv(r\"C:\\Users\\Nikita\\Projects\\vlm_for_iqa\\data\\blurry_results_qwen.csv\")"
   ],
   "id": "c441725551698aa",
   "outputs": [],
   "execution_count": 4
  },
  {
   "metadata": {
    "ExecuteTime": {
     "end_time": "2025-05-26T06:52:25.849421Z",
     "start_time": "2025-05-26T06:52:25.845421Z"
    }
   },
   "cell_type": "code",
   "source": "human_df['Human Presence'].value_counts()",
   "id": "1d390a880e5cf6f6",
   "outputs": [
    {
     "data": {
      "text/plain": [
       "Human Presence\n",
       "No     2848\n",
       "Yes     152\n",
       "Name: count, dtype: int64"
      ]
     },
     "execution_count": 7,
     "metadata": {},
     "output_type": "execute_result"
    }
   ],
   "execution_count": 7
  },
  {
   "metadata": {
    "ExecuteTime": {
     "end_time": "2025-05-26T06:53:42.993827Z",
     "start_time": "2025-05-26T06:53:42.976824Z"
    }
   },
   "cell_type": "code",
   "source": "taxa_df['Contains Other Taxa'].value_counts()",
   "id": "a12645c0f32d61ef",
   "outputs": [
    {
     "data": {
      "text/plain": [
       "Contains Other Taxa\n",
       "No     2514\n",
       "Yes     486\n",
       "Name: count, dtype: int64"
      ]
     },
     "execution_count": 12,
     "metadata": {},
     "output_type": "execute_result"
    }
   ],
   "execution_count": 12
  },
  {
   "metadata": {
    "ExecuteTime": {
     "end_time": "2025-05-26T06:53:40.557660Z",
     "start_time": "2025-05-26T06:53:40.546657Z"
    }
   },
   "cell_type": "code",
   "source": "blurry_df['Blurry'].value_counts()",
   "id": "dd7a0218b095effe",
   "outputs": [
    {
     "data": {
      "text/plain": [
       "Blurry\n",
       "No     2973\n",
       "Yes      27\n",
       "Name: count, dtype: int64"
      ]
     },
     "execution_count": 11,
     "metadata": {},
     "output_type": "execute_result"
    }
   ],
   "execution_count": 11
  },
  {
   "metadata": {
    "ExecuteTime": {
     "end_time": "2025-05-26T06:53:15.117538Z",
     "start_time": "2025-05-26T06:53:15.109536Z"
    }
   },
   "cell_type": "code",
   "source": "blurry_df.head()",
   "id": "935499a42b91de03",
   "outputs": [
    {
     "data": {
      "text/plain": [
       "                                          Image Name Blurry\n",
       "0  D:\\iNaturalist\\test_3000\\Leucanthemum_vulgare_...     No\n",
       "1  D:\\iNaturalist\\test_3000\\Leucanthemum_vulgare_...     No\n",
       "2  D:\\iNaturalist\\test_3000\\Leucanthemum_vulgare_...     No\n",
       "3  D:\\iNaturalist\\test_3000\\Bellis_perennis_84593...     No\n",
       "4  D:\\iNaturalist\\test_3000\\Bellis_perennis_84613...     No"
      ],
      "text/html": [
       "<div>\n",
       "<style scoped>\n",
       "    .dataframe tbody tr th:only-of-type {\n",
       "        vertical-align: middle;\n",
       "    }\n",
       "\n",
       "    .dataframe tbody tr th {\n",
       "        vertical-align: top;\n",
       "    }\n",
       "\n",
       "    .dataframe thead th {\n",
       "        text-align: right;\n",
       "    }\n",
       "</style>\n",
       "<table border=\"1\" class=\"dataframe\">\n",
       "  <thead>\n",
       "    <tr style=\"text-align: right;\">\n",
       "      <th></th>\n",
       "      <th>Image Name</th>\n",
       "      <th>Blurry</th>\n",
       "    </tr>\n",
       "  </thead>\n",
       "  <tbody>\n",
       "    <tr>\n",
       "      <th>0</th>\n",
       "      <td>D:\\iNaturalist\\test_3000\\Leucanthemum_vulgare_...</td>\n",
       "      <td>No</td>\n",
       "    </tr>\n",
       "    <tr>\n",
       "      <th>1</th>\n",
       "      <td>D:\\iNaturalist\\test_3000\\Leucanthemum_vulgare_...</td>\n",
       "      <td>No</td>\n",
       "    </tr>\n",
       "    <tr>\n",
       "      <th>2</th>\n",
       "      <td>D:\\iNaturalist\\test_3000\\Leucanthemum_vulgare_...</td>\n",
       "      <td>No</td>\n",
       "    </tr>\n",
       "    <tr>\n",
       "      <th>3</th>\n",
       "      <td>D:\\iNaturalist\\test_3000\\Bellis_perennis_84593...</td>\n",
       "      <td>No</td>\n",
       "    </tr>\n",
       "    <tr>\n",
       "      <th>4</th>\n",
       "      <td>D:\\iNaturalist\\test_3000\\Bellis_perennis_84613...</td>\n",
       "      <td>No</td>\n",
       "    </tr>\n",
       "  </tbody>\n",
       "</table>\n",
       "</div>"
      ]
     },
     "execution_count": 10,
     "metadata": {},
     "output_type": "execute_result"
    }
   ],
   "execution_count": 10
  },
  {
   "metadata": {},
   "cell_type": "code",
   "outputs": [],
   "execution_count": null,
   "source": "",
   "id": "85570c8fb0aaae63"
  }
 ],
 "metadata": {
  "kernelspec": {
   "display_name": "Python 3",
   "language": "python",
   "name": "python3"
  },
  "language_info": {
   "codemirror_mode": {
    "name": "ipython",
    "version": 2
   },
   "file_extension": ".py",
   "mimetype": "text/x-python",
   "name": "python",
   "nbconvert_exporter": "python",
   "pygments_lexer": "ipython2",
   "version": "2.7.6"
  }
 },
 "nbformat": 4,
 "nbformat_minor": 5
}
