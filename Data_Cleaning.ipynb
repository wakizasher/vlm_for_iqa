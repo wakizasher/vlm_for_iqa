{
 "cells": [
  {
   "cell_type": "code",
   "id": "initial_id",
   "metadata": {
    "collapsed": true,
    "ExecuteTime": {
     "end_time": "2025-05-26T06:36:32.723789Z",
     "start_time": "2025-05-26T06:36:30.968322Z"
    }
   },
   "source": [
    "import pandas as pd\n",
    "import numpy as np\n",
    "import matplotlib.pyplot as plt\n",
    "import os"
   ],
   "outputs": [],
   "execution_count": 1
  },
  {
   "metadata": {
    "ExecuteTime": {
     "end_time": "2025-05-26T06:36:32.786301Z",
     "start_time": "2025-05-26T06:36:32.730789Z"
    }
   },
   "cell_type": "code",
   "source": [
    "human_presence = pd.read_csv(r\"C:\\Users\\Nikita\\Projects\\vlm_for_iqa\\data\\human_presence_results_qwen.csv\")\n",
    "blurry_results = pd.read_csv(r\"C:\\Users\\Nikita\\Projects\\vlm_for_iqa\\data\\blurry_results_qwen.csv\")\n",
    "niqe_results = pd.read_csv(r\"C:\\Users\\Nikita\\Projects\\vlm_for_iqa\\data\\valid_niqe_results3000.csv\")\n",
    "other_taxa_results = pd.read_csv(r\"C:\\Users\\Nikita\\Projects\\vlm_for_iqa\\data\\taxa_results_qwen_updated_prompt.csv\")"
   ],
   "id": "ad9dc4f0e3dd1966",
   "outputs": [],
   "execution_count": 2
  },
  {
   "metadata": {
    "ExecuteTime": {
     "end_time": "2025-05-26T06:36:33.239737Z",
     "start_time": "2025-05-26T06:36:33.225737Z"
    }
   },
   "cell_type": "code",
   "source": [
    "blurry_results['file_path'] = blurry_results['Image Name']\n",
    "blurry_results['Image Name'] = blurry_results['Image Name'].str.replace('D:\\\\iNaturalist\\\\test_3000\\\\', '', regex=False)\n",
    "# Split by underscore and take the third element (index 2) for the ID\n",
    "split_data = blurry_results['Image Name'].str.split('_', expand=True)\n",
    "\n",
    "# Create flower_name column (first two parts)\n",
    "blurry_results['flower_name'] = split_data[0] + '_' + split_data[1]\n",
    "\n",
    "# Create id column (third part, after removing file extension)\n",
    "blurry_results['id'] = split_data[2].str.split('.').str[0]\n",
    "\n",
    "# Delete the 'Image Name' column in place\n",
    "blurry_results.drop('Image Name', axis=1, inplace=True)\n"
   ],
   "id": "b6ce32649378069a",
   "outputs": [],
   "execution_count": 3
  },
  {
   "metadata": {
    "ExecuteTime": {
     "end_time": "2025-05-26T06:36:33.287249Z",
     "start_time": "2025-05-26T06:36:33.273246Z"
    }
   },
   "cell_type": "code",
   "source": [
    "human_presence['Image Name'] = human_presence['Image Name'].str.replace('D:\\\\iNaturalist\\\\test_3000\\\\', '', regex=False)\n",
    "# Split by underscore and take the third element (index 2) for the ID\n",
    "split_data = human_presence['Image Name'].str.split('_', expand=True)\n",
    "\n",
    "# Create flower_name column (first two parts)\n",
    "human_presence['flower_name'] = split_data[0] + '_' + split_data[1]\n",
    "\n",
    "# Create id column (third part, after removing file extension)\n",
    "human_presence['id'] = split_data[2].str.split('.').str[0]\n",
    "\n",
    "# Delete the 'Image Name' column in place\n",
    "human_presence.drop('Image Name', axis=1, inplace=True)"
   ],
   "id": "f324c50ddbbc2a84",
   "outputs": [],
   "execution_count": 4
  },
  {
   "metadata": {
    "ExecuteTime": {
     "end_time": "2025-05-26T06:36:33.318074Z",
     "start_time": "2025-05-26T06:36:33.303917Z"
    }
   },
   "cell_type": "code",
   "source": [
    "niqe_results['Image_Path'] = niqe_results['Image_Path'].str.replace('D:\\\\iNaturalist\\\\test_3000\\\\', '', regex=False)\n",
    "# Split by underscore and take the third element (index 2) for the ID\n",
    "split_data = niqe_results['Image_Path'].str.split('_', expand=True)\n",
    "\n",
    "# Create flower_name column (first two parts)\n",
    "niqe_results['flower_name'] = split_data[0] + '_' + split_data[1]\n",
    "\n",
    "# Create id column (third part, after removing file extension)\n",
    "niqe_results['id'] = split_data[2].str.split('.').str[0]\n",
    "\n",
    "# Delete the 'Image Name' column in place\n",
    "niqe_results.drop('Image_Path', axis=1, inplace=True)"
   ],
   "id": "b740ffe6e6d96f55",
   "outputs": [],
   "execution_count": 5
  },
  {
   "metadata": {
    "ExecuteTime": {
     "end_time": "2025-05-26T06:36:33.350074Z",
     "start_time": "2025-05-26T06:36:33.334075Z"
    }
   },
   "cell_type": "code",
   "source": [
    "\n",
    "split_data = other_taxa_results['Image Name'].str.split('_', expand=True)\n",
    "\n",
    "# Create flower_name column (first two parts)\n",
    "other_taxa_results['flower_name'] = split_data[0] + '_' + split_data[1]\n",
    "\n",
    "# Create id column (third part, after removing file extension)\n",
    "other_taxa_results['id'] = split_data[2].str.split('.').str[0]\n",
    "\n",
    "# Delete the 'Image Name' column in place\n",
    "other_taxa_results.drop('Image Name', axis=1, inplace=True)\n",
    "# Delete the Identification flower name\n",
    "other_taxa_results.drop('Identified Flower Name', axis=1, inplace=True)"
   ],
   "id": "cfc0cb7a563d4d8d",
   "outputs": [],
   "execution_count": 6
  },
  {
   "metadata": {
    "ExecuteTime": {
     "end_time": "2025-05-26T06:36:33.380156Z",
     "start_time": "2025-05-26T06:36:33.366081Z"
    }
   },
   "cell_type": "code",
   "source": "other_taxa_results.head()",
   "id": "752d5e505a06ee61",
   "outputs": [
    {
     "data": {
      "text/plain": [
       "  Contains Other Taxa           flower_name     id\n",
       "0                  No  Leucanthemum_vulgare  88373\n",
       "1                  No  Leucanthemum_vulgare  88388\n",
       "2                  No  Leucanthemum_vulgare  88396\n",
       "3                  No       Bellis_perennis  84593\n",
       "4                  No       Bellis_perennis  84613"
      ],
      "text/html": [
       "<div>\n",
       "<style scoped>\n",
       "    .dataframe tbody tr th:only-of-type {\n",
       "        vertical-align: middle;\n",
       "    }\n",
       "\n",
       "    .dataframe tbody tr th {\n",
       "        vertical-align: top;\n",
       "    }\n",
       "\n",
       "    .dataframe thead th {\n",
       "        text-align: right;\n",
       "    }\n",
       "</style>\n",
       "<table border=\"1\" class=\"dataframe\">\n",
       "  <thead>\n",
       "    <tr style=\"text-align: right;\">\n",
       "      <th></th>\n",
       "      <th>Contains Other Taxa</th>\n",
       "      <th>flower_name</th>\n",
       "      <th>id</th>\n",
       "    </tr>\n",
       "  </thead>\n",
       "  <tbody>\n",
       "    <tr>\n",
       "      <th>0</th>\n",
       "      <td>No</td>\n",
       "      <td>Leucanthemum_vulgare</td>\n",
       "      <td>88373</td>\n",
       "    </tr>\n",
       "    <tr>\n",
       "      <th>1</th>\n",
       "      <td>No</td>\n",
       "      <td>Leucanthemum_vulgare</td>\n",
       "      <td>88388</td>\n",
       "    </tr>\n",
       "    <tr>\n",
       "      <th>2</th>\n",
       "      <td>No</td>\n",
       "      <td>Leucanthemum_vulgare</td>\n",
       "      <td>88396</td>\n",
       "    </tr>\n",
       "    <tr>\n",
       "      <th>3</th>\n",
       "      <td>No</td>\n",
       "      <td>Bellis_perennis</td>\n",
       "      <td>84593</td>\n",
       "    </tr>\n",
       "    <tr>\n",
       "      <th>4</th>\n",
       "      <td>No</td>\n",
       "      <td>Bellis_perennis</td>\n",
       "      <td>84613</td>\n",
       "    </tr>\n",
       "  </tbody>\n",
       "</table>\n",
       "</div>"
      ]
     },
     "execution_count": 7,
     "metadata": {},
     "output_type": "execute_result"
    }
   ],
   "execution_count": 7
  },
  {
   "metadata": {
    "ExecuteTime": {
     "end_time": "2025-05-26T06:36:33.410581Z",
     "start_time": "2025-05-26T06:36:33.396161Z"
    }
   },
   "cell_type": "code",
   "source": [
    "dataframes_dict = {\n",
    "    'dataset1': human_presence,\n",
    "    'dataset2': blurry_results,\n",
    "    'dataset3': niqe_results,\n",
    "    'dataset4': other_taxa_results\n",
    "}"
   ],
   "id": "4115efa64cc84b5a",
   "outputs": [],
   "execution_count": 8
  },
  {
   "metadata": {
    "ExecuteTime": {
     "end_time": "2025-05-26T06:36:33.473093Z",
     "start_time": "2025-05-26T06:36:33.443582Z"
    }
   },
   "cell_type": "code",
   "source": [
    "# Start with the first DataFrame\n",
    "merged_df = human_presence.copy()\n",
    "\n",
    "# Merge each subsequent DataFrame on the common columns\n",
    "merged_df = pd.merge(merged_df, blurry_results, on=['flower_name', 'id'], how='outer')\n",
    "merged_df = pd.merge(merged_df, niqe_results, on=['flower_name', 'id'], how='outer')\n",
    "merged_df = pd.merge(merged_df, other_taxa_results, on=['flower_name', 'id'], how='outer')"
   ],
   "id": "d81b887d9dc88252",
   "outputs": [],
   "execution_count": 9
  },
  {
   "metadata": {
    "ExecuteTime": {
     "end_time": "2025-05-26T06:36:33.519426Z",
     "start_time": "2025-05-26T06:36:33.505344Z"
    }
   },
   "cell_type": "code",
   "source": "merged_df.head()",
   "id": "afed8b64de7b05fc",
   "outputs": [
    {
     "data": {
      "text/plain": [
       "  Human Presence      flower_name     id Blurry  \\\n",
       "0             No  Bellis_perennis  10127     No   \n",
       "1             No  Bellis_perennis  10150     No   \n",
       "2             No  Bellis_perennis  10172     No   \n",
       "3             No  Bellis_perennis  10250     No   \n",
       "4             No  Bellis_perennis   1038     No   \n",
       "\n",
       "                                           file_path  NIQE_score  \\\n",
       "0  D:\\iNaturalist\\test_3000\\Bellis_perennis_10127...    3.194589   \n",
       "1  D:\\iNaturalist\\test_3000\\Bellis_perennis_10150...    2.865348   \n",
       "2  D:\\iNaturalist\\test_3000\\Bellis_perennis_10172...    3.969215   \n",
       "3  D:\\iNaturalist\\test_3000\\Bellis_perennis_10250...    2.802292   \n",
       "4  D:\\iNaturalist\\test_3000\\Bellis_perennis_1038.jpg    4.511052   \n",
       "\n",
       "  Contains Other Taxa  \n",
       "0                 Yes  \n",
       "1                 Yes  \n",
       "2                 Yes  \n",
       "3                  No  \n",
       "4                  No  "
      ],
      "text/html": [
       "<div>\n",
       "<style scoped>\n",
       "    .dataframe tbody tr th:only-of-type {\n",
       "        vertical-align: middle;\n",
       "    }\n",
       "\n",
       "    .dataframe tbody tr th {\n",
       "        vertical-align: top;\n",
       "    }\n",
       "\n",
       "    .dataframe thead th {\n",
       "        text-align: right;\n",
       "    }\n",
       "</style>\n",
       "<table border=\"1\" class=\"dataframe\">\n",
       "  <thead>\n",
       "    <tr style=\"text-align: right;\">\n",
       "      <th></th>\n",
       "      <th>Human Presence</th>\n",
       "      <th>flower_name</th>\n",
       "      <th>id</th>\n",
       "      <th>Blurry</th>\n",
       "      <th>file_path</th>\n",
       "      <th>NIQE_score</th>\n",
       "      <th>Contains Other Taxa</th>\n",
       "    </tr>\n",
       "  </thead>\n",
       "  <tbody>\n",
       "    <tr>\n",
       "      <th>0</th>\n",
       "      <td>No</td>\n",
       "      <td>Bellis_perennis</td>\n",
       "      <td>10127</td>\n",
       "      <td>No</td>\n",
       "      <td>D:\\iNaturalist\\test_3000\\Bellis_perennis_10127...</td>\n",
       "      <td>3.194589</td>\n",
       "      <td>Yes</td>\n",
       "    </tr>\n",
       "    <tr>\n",
       "      <th>1</th>\n",
       "      <td>No</td>\n",
       "      <td>Bellis_perennis</td>\n",
       "      <td>10150</td>\n",
       "      <td>No</td>\n",
       "      <td>D:\\iNaturalist\\test_3000\\Bellis_perennis_10150...</td>\n",
       "      <td>2.865348</td>\n",
       "      <td>Yes</td>\n",
       "    </tr>\n",
       "    <tr>\n",
       "      <th>2</th>\n",
       "      <td>No</td>\n",
       "      <td>Bellis_perennis</td>\n",
       "      <td>10172</td>\n",
       "      <td>No</td>\n",
       "      <td>D:\\iNaturalist\\test_3000\\Bellis_perennis_10172...</td>\n",
       "      <td>3.969215</td>\n",
       "      <td>Yes</td>\n",
       "    </tr>\n",
       "    <tr>\n",
       "      <th>3</th>\n",
       "      <td>No</td>\n",
       "      <td>Bellis_perennis</td>\n",
       "      <td>10250</td>\n",
       "      <td>No</td>\n",
       "      <td>D:\\iNaturalist\\test_3000\\Bellis_perennis_10250...</td>\n",
       "      <td>2.802292</td>\n",
       "      <td>No</td>\n",
       "    </tr>\n",
       "    <tr>\n",
       "      <th>4</th>\n",
       "      <td>No</td>\n",
       "      <td>Bellis_perennis</td>\n",
       "      <td>1038</td>\n",
       "      <td>No</td>\n",
       "      <td>D:\\iNaturalist\\test_3000\\Bellis_perennis_1038.jpg</td>\n",
       "      <td>4.511052</td>\n",
       "      <td>No</td>\n",
       "    </tr>\n",
       "  </tbody>\n",
       "</table>\n",
       "</div>"
      ]
     },
     "execution_count": 10,
     "metadata": {},
     "output_type": "execute_result"
    }
   ],
   "execution_count": 10
  },
  {
   "metadata": {
    "ExecuteTime": {
     "end_time": "2025-05-26T06:36:33.565434Z",
     "start_time": "2025-05-26T06:36:33.551428Z"
    }
   },
   "cell_type": "code",
   "source": "",
   "id": "1c620d6bb08b79cd",
   "outputs": [],
   "execution_count": null
  },
  {
   "metadata": {
    "ExecuteTime": {
     "end_time": "2025-05-26T06:36:33.627306Z",
     "start_time": "2025-05-26T06:36:33.612308Z"
    }
   },
   "cell_type": "code",
   "source": [
    "# Get all column names\n",
    "all_columns = merged_df.columns.tolist()\n",
    "\n",
    "# Remove flower_name and id from the list\n",
    "remaining_columns = [col for col in all_columns if col not in ['flower_name', 'id']]\n",
    "\n",
    "# Create new column order with flower_name and id first\n",
    "new_column_order = ['flower_name', 'id'] + remaining_columns\n",
    "\n",
    "# Reorder the DataFrame\n",
    "merged_df = merged_df[new_column_order]\n"
   ],
   "id": "125b1c0561b25a48",
   "outputs": [],
   "execution_count": 11
  },
  {
   "metadata": {
    "ExecuteTime": {
     "end_time": "2025-05-26T06:36:33.689834Z",
     "start_time": "2025-05-26T06:36:33.677322Z"
    }
   },
   "cell_type": "code",
   "source": "merged_df.describe()",
   "id": "e0090e0b7ec69609",
   "outputs": [
    {
     "data": {
      "text/plain": [
       "        NIQE_score\n",
       "count  3000.000000\n",
       "mean      4.105560\n",
       "std       0.947230\n",
       "min       1.927771\n",
       "25%       3.445136\n",
       "50%       4.003557\n",
       "75%       4.648312\n",
       "max      11.836328"
      ],
      "text/html": [
       "<div>\n",
       "<style scoped>\n",
       "    .dataframe tbody tr th:only-of-type {\n",
       "        vertical-align: middle;\n",
       "    }\n",
       "\n",
       "    .dataframe tbody tr th {\n",
       "        vertical-align: top;\n",
       "    }\n",
       "\n",
       "    .dataframe thead th {\n",
       "        text-align: right;\n",
       "    }\n",
       "</style>\n",
       "<table border=\"1\" class=\"dataframe\">\n",
       "  <thead>\n",
       "    <tr style=\"text-align: right;\">\n",
       "      <th></th>\n",
       "      <th>NIQE_score</th>\n",
       "    </tr>\n",
       "  </thead>\n",
       "  <tbody>\n",
       "    <tr>\n",
       "      <th>count</th>\n",
       "      <td>3000.000000</td>\n",
       "    </tr>\n",
       "    <tr>\n",
       "      <th>mean</th>\n",
       "      <td>4.105560</td>\n",
       "    </tr>\n",
       "    <tr>\n",
       "      <th>std</th>\n",
       "      <td>0.947230</td>\n",
       "    </tr>\n",
       "    <tr>\n",
       "      <th>min</th>\n",
       "      <td>1.927771</td>\n",
       "    </tr>\n",
       "    <tr>\n",
       "      <th>25%</th>\n",
       "      <td>3.445136</td>\n",
       "    </tr>\n",
       "    <tr>\n",
       "      <th>50%</th>\n",
       "      <td>4.003557</td>\n",
       "    </tr>\n",
       "    <tr>\n",
       "      <th>75%</th>\n",
       "      <td>4.648312</td>\n",
       "    </tr>\n",
       "    <tr>\n",
       "      <th>max</th>\n",
       "      <td>11.836328</td>\n",
       "    </tr>\n",
       "  </tbody>\n",
       "</table>\n",
       "</div>"
      ]
     },
     "execution_count": 12,
     "metadata": {},
     "output_type": "execute_result"
    }
   ],
   "execution_count": 12
  },
  {
   "metadata": {
    "ExecuteTime": {
     "end_time": "2025-05-26T06:36:33.752627Z",
     "start_time": "2025-05-26T06:36:33.737624Z"
    }
   },
   "cell_type": "code",
   "source": "merged_df['flower_name'] = merged_df['flower_name'].str.replace('_', ' ', regex=False)",
   "id": "56136fa330663cc1",
   "outputs": [],
   "execution_count": 13
  },
  {
   "metadata": {
    "ExecuteTime": {
     "end_time": "2025-05-26T06:36:33.799140Z",
     "start_time": "2025-05-26T06:36:33.790142Z"
    }
   },
   "cell_type": "code",
   "source": "merged_df.head()",
   "id": "3326be888db841f1",
   "outputs": [
    {
     "data": {
      "text/plain": [
       "       flower_name     id Human Presence Blurry  \\\n",
       "0  Bellis perennis  10127             No     No   \n",
       "1  Bellis perennis  10150             No     No   \n",
       "2  Bellis perennis  10172             No     No   \n",
       "3  Bellis perennis  10250             No     No   \n",
       "4  Bellis perennis   1038             No     No   \n",
       "\n",
       "                                           file_path  NIQE_score  \\\n",
       "0  D:\\iNaturalist\\test_3000\\Bellis_perennis_10127...    3.194589   \n",
       "1  D:\\iNaturalist\\test_3000\\Bellis_perennis_10150...    2.865348   \n",
       "2  D:\\iNaturalist\\test_3000\\Bellis_perennis_10172...    3.969215   \n",
       "3  D:\\iNaturalist\\test_3000\\Bellis_perennis_10250...    2.802292   \n",
       "4  D:\\iNaturalist\\test_3000\\Bellis_perennis_1038.jpg    4.511052   \n",
       "\n",
       "  Contains Other Taxa  \n",
       "0                 Yes  \n",
       "1                 Yes  \n",
       "2                 Yes  \n",
       "3                  No  \n",
       "4                  No  "
      ],
      "text/html": [
       "<div>\n",
       "<style scoped>\n",
       "    .dataframe tbody tr th:only-of-type {\n",
       "        vertical-align: middle;\n",
       "    }\n",
       "\n",
       "    .dataframe tbody tr th {\n",
       "        vertical-align: top;\n",
       "    }\n",
       "\n",
       "    .dataframe thead th {\n",
       "        text-align: right;\n",
       "    }\n",
       "</style>\n",
       "<table border=\"1\" class=\"dataframe\">\n",
       "  <thead>\n",
       "    <tr style=\"text-align: right;\">\n",
       "      <th></th>\n",
       "      <th>flower_name</th>\n",
       "      <th>id</th>\n",
       "      <th>Human Presence</th>\n",
       "      <th>Blurry</th>\n",
       "      <th>file_path</th>\n",
       "      <th>NIQE_score</th>\n",
       "      <th>Contains Other Taxa</th>\n",
       "    </tr>\n",
       "  </thead>\n",
       "  <tbody>\n",
       "    <tr>\n",
       "      <th>0</th>\n",
       "      <td>Bellis perennis</td>\n",
       "      <td>10127</td>\n",
       "      <td>No</td>\n",
       "      <td>No</td>\n",
       "      <td>D:\\iNaturalist\\test_3000\\Bellis_perennis_10127...</td>\n",
       "      <td>3.194589</td>\n",
       "      <td>Yes</td>\n",
       "    </tr>\n",
       "    <tr>\n",
       "      <th>1</th>\n",
       "      <td>Bellis perennis</td>\n",
       "      <td>10150</td>\n",
       "      <td>No</td>\n",
       "      <td>No</td>\n",
       "      <td>D:\\iNaturalist\\test_3000\\Bellis_perennis_10150...</td>\n",
       "      <td>2.865348</td>\n",
       "      <td>Yes</td>\n",
       "    </tr>\n",
       "    <tr>\n",
       "      <th>2</th>\n",
       "      <td>Bellis perennis</td>\n",
       "      <td>10172</td>\n",
       "      <td>No</td>\n",
       "      <td>No</td>\n",
       "      <td>D:\\iNaturalist\\test_3000\\Bellis_perennis_10172...</td>\n",
       "      <td>3.969215</td>\n",
       "      <td>Yes</td>\n",
       "    </tr>\n",
       "    <tr>\n",
       "      <th>3</th>\n",
       "      <td>Bellis perennis</td>\n",
       "      <td>10250</td>\n",
       "      <td>No</td>\n",
       "      <td>No</td>\n",
       "      <td>D:\\iNaturalist\\test_3000\\Bellis_perennis_10250...</td>\n",
       "      <td>2.802292</td>\n",
       "      <td>No</td>\n",
       "    </tr>\n",
       "    <tr>\n",
       "      <th>4</th>\n",
       "      <td>Bellis perennis</td>\n",
       "      <td>1038</td>\n",
       "      <td>No</td>\n",
       "      <td>No</td>\n",
       "      <td>D:\\iNaturalist\\test_3000\\Bellis_perennis_1038.jpg</td>\n",
       "      <td>4.511052</td>\n",
       "      <td>No</td>\n",
       "    </tr>\n",
       "  </tbody>\n",
       "</table>\n",
       "</div>"
      ]
     },
     "execution_count": 14,
     "metadata": {},
     "output_type": "execute_result"
    }
   ],
   "execution_count": 14
  },
  {
   "metadata": {
    "ExecuteTime": {
     "end_time": "2025-05-26T06:36:33.924293Z",
     "start_time": "2025-05-26T06:36:33.909289Z"
    }
   },
   "cell_type": "code",
   "source": [
    "# Save DataFrame to CSV file\n",
    "merged_df.to_csv('C:\\\\Users\\\\Nikita\\\\Projects\\\\vlm_for_iqa\\\\complete_iqa.csv', index=False)"
   ],
   "id": "5b7750869b32fb12",
   "outputs": [],
   "execution_count": 15
  },
  {
   "metadata": {
    "ExecuteTime": {
     "end_time": "2025-05-26T06:36:34.033467Z",
     "start_time": "2025-05-26T06:36:34.003002Z"
    }
   },
   "cell_type": "code",
   "source": "iqa = pd.read_csv(r\"C:\\Users\\Nikita\\Projects\\vlm_for_iqa\\data\\complete_iqa.csv\")\n",
   "id": "605e4fad80614ab7",
   "outputs": [],
   "execution_count": 16
  },
  {
   "metadata": {
    "ExecuteTime": {
     "end_time": "2025-05-26T06:37:01.297541Z",
     "start_time": "2025-05-26T06:37:01.158751Z"
    }
   },
   "cell_type": "code",
   "source": [
    "# Create a histogram with density and custom color\n",
    "plt.hist(merged_df['NIQE_score'],bins = 40, color = 'blue', edgecolor='black', alpha=0.7, range=(0,10))\n",
    "plt.xlabel('NIQE Values')\n",
    "plt.title('NIQE Values Distribution')\n",
    "plt.show()"
   ],
   "id": "2feac9151a512ee",
   "outputs": [
    {
     "data": {
      "text/plain": [
       "<Figure size 640x480 with 1 Axes>"
      ],
      "image/png": "[encoded data removed]"
     },
     "metadata": {},
     "output_type": "display_data"
    }
   ],
   "execution_count": 17
  },
  {
   "metadata": {
    "ExecuteTime": {
     "end_time": "2025-05-25T23:04:40.477664Z",
     "start_time": "2025-05-25T23:04:40.468664Z"
    }
   },
   "cell_type": "code",
   "source": [
    "q = merged_df[\"NIQE_score\"].quantile(0.99)\n",
    "merged_df = merged_df[merged_df[\"NIQE_score\"] < q]"
   ],
   "id": "4a74de029719ec6c",
   "outputs": [],
   "execution_count": 182
  },
  {
   "metadata": {
    "ExecuteTime": {
     "end_time": "2025-05-25T23:04:40.584682Z",
     "start_time": "2025-05-25T23:04:40.514833Z"
    }
   },
   "cell_type": "code",
   "source": [
    "fig = plt.figure(figsize=(10,7))\n",
    "plt.boxplot(merged_df['NIQE_score'])\n",
    "plt.xlabel('NIQE score')\n",
    "plt.title('Box Plot Scores Distribution without Outliers NIQE')\n",
    "plt.show()"
   ],
   "id": "364034e930903259",
   "outputs": [
    {
     "data": {
      "text/plain": [
       "<Figure size 1000x700 with 1 Axes>"
      ],
      "image/png": "[encoded data removed]"
     },
     "metadata": {},
     "output_type": "display_data"
    }
   ],
   "execution_count": 183
  },
  {
   "metadata": {
    "ExecuteTime": {
     "end_time": "2025-05-25T23:04:40.616194Z",
     "start_time": "2025-05-25T23:04:40.601688Z"
    }
   },
   "cell_type": "code",
   "source": [
    "Q1 = merged_df[\"NIQE_score\"].quantile(0.25)\n",
    "Q3 = merged_df[\"NIQE_score\"].quantile(0.75)\n",
    "IQR = Q3 - Q1\n",
    "upper_whisker = Q3 + 1.5 * IQR\n",
    "filtered_df = merged_df[merged_df['NIQE_score'] <= upper_whisker]"
   ],
   "id": "3eac71f624e6efeb",
   "outputs": [],
   "execution_count": 184
  },
  {
   "metadata": {
    "ExecuteTime": {
     "end_time": "2025-05-25T23:04:40.647194Z",
     "start_time": "2025-05-25T23:04:40.633193Z"
    }
   },
   "cell_type": "code",
   "source": "filtered_df.describe()",
   "id": "6135b1286491792c",
   "outputs": [
    {
     "data": {
      "text/plain": [
       "        NIQE_score\n",
       "count  2939.000000\n",
       "mean      4.041468\n",
       "std       0.834542\n",
       "min       1.927771\n",
       "25%       3.431973\n",
       "50%       3.978571\n",
       "75%       4.589046\n",
       "max       6.377324"
      ],
      "text/html": [
       "<div>\n",
       "<style scoped>\n",
       "    .dataframe tbody tr th:only-of-type {\n",
       "        vertical-align: middle;\n",
       "    }\n",
       "\n",
       "    .dataframe tbody tr th {\n",
       "        vertical-align: top;\n",
       "    }\n",
       "\n",
       "    .dataframe thead th {\n",
       "        text-align: right;\n",
       "    }\n",
       "</style>\n",
       "<table border=\"1\" class=\"dataframe\">\n",
       "  <thead>\n",
       "    <tr style=\"text-align: right;\">\n",
       "      <th></th>\n",
       "      <th>NIQE_score</th>\n",
       "    </tr>\n",
       "  </thead>\n",
       "  <tbody>\n",
       "    <tr>\n",
       "      <th>count</th>\n",
       "      <td>2939.000000</td>\n",
       "    </tr>\n",
       "    <tr>\n",
       "      <th>mean</th>\n",
       "      <td>4.041468</td>\n",
       "    </tr>\n",
       "    <tr>\n",
       "      <th>std</th>\n",
       "      <td>0.834542</td>\n",
       "    </tr>\n",
       "    <tr>\n",
       "      <th>min</th>\n",
       "      <td>1.927771</td>\n",
       "    </tr>\n",
       "    <tr>\n",
       "      <th>25%</th>\n",
       "      <td>3.431973</td>\n",
       "    </tr>\n",
       "    <tr>\n",
       "      <th>50%</th>\n",
       "      <td>3.978571</td>\n",
       "    </tr>\n",
       "    <tr>\n",
       "      <th>75%</th>\n",
       "      <td>4.589046</td>\n",
       "    </tr>\n",
       "    <tr>\n",
       "      <th>max</th>\n",
       "      <td>6.377324</td>\n",
       "    </tr>\n",
       "  </tbody>\n",
       "</table>\n",
       "</div>"
      ]
     },
     "execution_count": 185,
     "metadata": {},
     "output_type": "execute_result"
    }
   ],
   "execution_count": 185
  },
  {
   "metadata": {
    "ExecuteTime": {
     "end_time": "2025-05-25T23:04:40.866428Z",
     "start_time": "2025-05-25T23:04:40.851742Z"
    }
   },
   "cell_type": "code",
   "source": [
    "# Filter the DataFrame using boolean conditions\n",
    "filtered_df = filtered_df[(filtered_df['Human Presence'] == 'No') & (filtered_df['Blurry'] == 'No') & (filtered_df['Contains Other Taxa'] == 'No')]\n"
   ],
   "id": "f2e9f9d319b77dcd",
   "outputs": [],
   "execution_count": 186
  },
  {
   "metadata": {
    "ExecuteTime": {
     "end_time": "2025-05-25T23:04:40.913932Z",
     "start_time": "2025-05-25T23:04:40.907426Z"
    }
   },
   "cell_type": "code",
   "source": "filtered_df.describe()",
   "id": "74cfa2fdc15b87c6",
   "outputs": [
    {
     "data": {
      "text/plain": [
       "        NIQE_score\n",
       "count  2313.000000\n",
       "mean      4.090619\n",
       "std       0.830180\n",
       "min       1.927771\n",
       "25%       3.487659\n",
       "50%       4.023888\n",
       "75%       4.654311\n",
       "max       6.377324"
      ],
      "text/html": [
       "<div>\n",
       "<style scoped>\n",
       "    .dataframe tbody tr th:only-of-type {\n",
       "        vertical-align: middle;\n",
       "    }\n",
       "\n",
       "    .dataframe tbody tr th {\n",
       "        vertical-align: top;\n",
       "    }\n",
       "\n",
       "    .dataframe thead th {\n",
       "        text-align: right;\n",
       "    }\n",
       "</style>\n",
       "<table border=\"1\" class=\"dataframe\">\n",
       "  <thead>\n",
       "    <tr style=\"text-align: right;\">\n",
       "      <th></th>\n",
       "      <th>NIQE_score</th>\n",
       "    </tr>\n",
       "  </thead>\n",
       "  <tbody>\n",
       "    <tr>\n",
       "      <th>count</th>\n",
       "      <td>2313.000000</td>\n",
       "    </tr>\n",
       "    <tr>\n",
       "      <th>mean</th>\n",
       "      <td>4.090619</td>\n",
       "    </tr>\n",
       "    <tr>\n",
       "      <th>std</th>\n",
       "      <td>0.830180</td>\n",
       "    </tr>\n",
       "    <tr>\n",
       "      <th>min</th>\n",
       "      <td>1.927771</td>\n",
       "    </tr>\n",
       "    <tr>\n",
       "      <th>25%</th>\n",
       "      <td>3.487659</td>\n",
       "    </tr>\n",
       "    <tr>\n",
       "      <th>50%</th>\n",
       "      <td>4.023888</td>\n",
       "    </tr>\n",
       "    <tr>\n",
       "      <th>75%</th>\n",
       "      <td>4.654311</td>\n",
       "    </tr>\n",
       "    <tr>\n",
       "      <th>max</th>\n",
       "      <td>6.377324</td>\n",
       "    </tr>\n",
       "  </tbody>\n",
       "</table>\n",
       "</div>"
      ]
     },
     "execution_count": 187,
     "metadata": {},
     "output_type": "execute_result"
    }
   ],
   "execution_count": 187
  },
  {
   "metadata": {
    "ExecuteTime": {
     "end_time": "2025-05-25T23:04:40.976414Z",
     "start_time": "2025-05-25T23:04:40.962416Z"
    }
   },
   "cell_type": "code",
   "source": "filtered_df.to_csv('C:\\\\Users\\\\Nikita\\\\Projects\\\\vlm_for_iqa\\\\filtered_iqa.csv', index=False)",
   "id": "fe72915dd0be3002",
   "outputs": [],
   "execution_count": 188
  },
  {
   "metadata": {
    "ExecuteTime": {
     "end_time": "2025-05-25T23:12:27.048425Z",
     "start_time": "2025-05-25T23:12:27.038427Z"
    }
   },
   "cell_type": "code",
   "source": [
    "ground_truth_original = merged_df[['flower_name', 'file_path']]\n",
    "ground_truth_filtered = filtered_df[['flower_name', 'file_path']]"
   ],
   "id": "6ebc90c7c8cbf134",
   "outputs": [],
   "execution_count": 189
  },
  {
   "metadata": {
    "ExecuteTime": {
     "end_time": "2025-05-25T23:16:14.731393Z",
     "start_time": "2025-05-25T23:16:14.721393Z"
    }
   },
   "cell_type": "code",
   "source": [
    "ground_truth_filtered.to_csv('C:\\\\Users\\\\Nikita\\\\Projects\\\\ZeroShot\\\\ground_truth_filtered.csv',index=False)\n",
    "ground_truth_original.to_csv('C:\\\\Users\\\\Nikita\\\\Projects\\\\ZeroShot\\\\ground_truth_original.csv',index=False)"
   ],
   "id": "10ef1ce91bbedb0b",
   "outputs": [],
   "execution_count": 196
  },
  {
   "metadata": {
    "ExecuteTime": {
     "end_time": "2025-05-25T23:16:15.687537Z",
     "start_time": "2025-05-25T23:16:15.677980Z"
    }
   },
   "cell_type": "code",
   "source": [
    "ground_truth_filtered.to_csv('C:\\\\Users\\\\Nikita\\\\Projects\\\\vlm_for_iqa\\\\data\\\\ground_truth_filtered.csv',index=False)\n",
    "ground_truth_original.to_csv('C:\\\\Users\\\\Nikita\\\\Projects\\\\vlm_for_iqa\\\\data\\\\ground_truth_original.csv',index=False)"
   ],
   "id": "18328c9682129fd7",
   "outputs": [],
   "execution_count": 197
  }
 ],
 "metadata": {
  "kernelspec": {
   "display_name": "Python 3",
   "language": "python",
   "name": "python3"
  },
  "language_info": {
   "codemirror_mode": {
    "name": "ipython",
    "version": 2
   },
   "file_extension": ".py",
   "mimetype": "text/x-python",
   "name": "python",
   "nbconvert_exporter": "python",
   "pygments_lexer": "ipython2",
   "version": "2.7.6"
  }
 },
 "nbformat": 4,
 "nbformat_minor": 5
}
